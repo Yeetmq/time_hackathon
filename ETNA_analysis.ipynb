{
 "cells": [
  {
   "cell_type": "code",
   "execution_count": 738,
   "metadata": {},
   "outputs": [],
   "source": [
    "import pandas as pd\n",
    "from etna.datasets import TSDataset\n",
    "from etna.transforms import LagTransform, DateFlagsTransform\n",
    "from etna.models import CatBoostPerSegmentModel\n",
    "from etna.pipeline import Pipeline\n",
    "from etna.metrics import RMSE\n"
   ]
  },
  {
   "cell_type": "code",
   "execution_count": 739,
   "metadata": {},
   "outputs": [],
   "source": [
    "import numpy as np\n",
    "import matplotlib.pyplot as plt\n",
    "from sklearn.linear_model import LinearRegression\n",
    "from statsmodels.tsa.seasonal import STL\n",
    "import seaborn as sns\n",
    "from scipy import stats\n",
    "import itertools\n",
    "from statsmodels.graphics.tsaplots import plot_acf\n",
    "from statsmodels.tsa.stattools import acf\n",
    "from statsmodels.tsa.stattools import adfuller\n",
    "from sklearn.model_selection import GridSearchCV, KFold\n",
    "from catboost import CatBoostRegressor\n",
    "from etna.models import CatBoostPerSegmentModel\n",
    "from etna.metrics import RMSE\n",
    "from etna.transforms import LagTransform, MeanTransform, DateFlagsTransform\n",
    "from etna.pipeline import Pipeline\n",
    "from etna.datasets import TSDataset\n",
    "from sklearn.model_selection import train_test_split"
   ]
  },
  {
   "cell_type": "code",
   "execution_count": 740,
   "metadata": {},
   "outputs": [],
   "source": [
    "data_path = './hackathon/data1.csv'\n",
    "data = pd.read_csv(data_path)\n",
    "\n",
    "# Преобразуем столбцы и создаем сегменты\n",
    "data['segment'] = 'segment_1'\n",
    "data = data.rename(columns={\"date\": \"timestamp\", \"value\": \"target\"})\n",
    "data['timestamp'] = pd.to_datetime(data['timestamp'])\n"
   ]
  },
  {
   "cell_type": "code",
   "execution_count": 741,
   "metadata": {},
   "outputs": [],
   "source": [
    "# from etna.transforms import LagTransform\n",
    "# lag_features = LagTransform(in_column=\"target\", out_column=\"lags\", lags=[1, 2, 3])\n",
    "\n",
    "# ts_with_features = TSDataset(data, freq=\"D\")\n",
    "# ts_with_features.fit_transform([lag_features])\n",
    "# ts_with_features = ts_with_features.df[\"segment_1\"]['lags_1'] = ts_with_features.df[\"segment_1\"]['lags_1'].fillna(0)\n",
    "# ts_with_features\n"
   ]
  },
  {
   "cell_type": "code",
   "execution_count": 742,
   "metadata": {},
   "outputs": [],
   "source": [
    "from etna.transforms import MeanTransform\n",
    "mean_tr = MeanTransform(in_column=\"target\", out_column=\"mean\", window=5)\n",
    "ts_with_features = TSDataset(data, freq=\"D\")"
   ]
  },
  {
   "cell_type": "code",
   "execution_count": 743,
   "metadata": {},
   "outputs": [],
   "source": [
    "# from etna.transforms import DateFlagsTransform\n",
    "# date_tr = DateFlagsTransform(out_column=\"date_flags\", \n",
    "#                              day_number_in_week=True,\n",
    "#                              day_number_in_month=True,\n",
    "#                              week_number_in_month=True,\n",
    "#                              is_weekend=True,\n",
    "#                             )\n",
    "# date_flag_ts = TSDataset(data, freq=\"D\")\n",
    "# ts_with_features.fit_transform([date_tr])\n"
   ]
  },
  {
   "cell_type": "code",
   "execution_count": 744,
   "metadata": {},
   "outputs": [],
   "source": [
    "import pandas as pd\n",
    "from sklearn.model_selection import train_test_split\n",
    "from etna.datasets import TSDataset\n",
    "\n",
    "# Предположим, что ts_with_features — это ваш TSDataset\n",
    "# Для начала преобразуем TSDataset в pandas DataFrame\n",
    "df = ts_with_features.df # df — это DataFrame внутри TSDataset\n",
    "\n",
    "# Сортируем данные по временной метке\n",
    "df = df.sort_values(by=\"timestamp\")\n",
    "\n",
    "# Разделяем данные на обучающую и тестовую выборки (80% train, 20% test)\n",
    "train_df, test_df = train_test_split(df, test_size=0.2, shuffle=False)\n",
    "\n",
    "# Разделяем тестовую выборку на валидационную (50% valid, 50% test)\n",
    "valid_df, test_df = train_test_split(test_df, test_size=0.5, shuffle=False)\n",
    "\n",
    "# Преобразуем обратно в TSDataset\n",
    "train_tsd = TSDataset(df=train_df, freq=\"D\")\n",
    "valid_tsd = TSDataset(df=valid_df, freq=\"D\")\n",
    "test_tsd = TSDataset(df=test_df, freq=\"D\")\n",
    "\n"
   ]
  },
  {
   "cell_type": "code",
   "execution_count": 745,
   "metadata": {},
   "outputs": [],
   "source": [
    "# MeanTransform(in_column=\"target\", out_column=\"mean\", window=5), \n",
    "#                                                     \n",
    "# DateFlagsTransform(in_column=\"target\", out_column=\"date_flags\", \n",
    "#                              day_number_in_week=True,\n",
    "#                              day_number_in_month=True,\n",
    "#                              week_number_in_month=True,\n",
    "#                              is_weekend=True,)"
   ]
  },
  {
   "cell_type": "code",
   "execution_count": 746,
   "metadata": {},
   "outputs": [
    {
     "data": {
      "text/plain": [
       "MultiIndex([('segment_1', 'target')],\n",
       "           names=['segment', 'feature'])"
      ]
     },
     "execution_count": 746,
     "metadata": {},
     "output_type": "execute_result"
    }
   ],
   "source": [
    "train_tsd.columns"
   ]
  },
  {
   "cell_type": "code",
   "execution_count": 747,
   "metadata": {},
   "outputs": [
    {
     "data": {
      "text/html": [
       "<div>\n",
       "<style scoped>\n",
       "    .dataframe tbody tr th:only-of-type {\n",
       "        vertical-align: middle;\n",
       "    }\n",
       "\n",
       "    .dataframe tbody tr th {\n",
       "        vertical-align: top;\n",
       "    }\n",
       "\n",
       "    .dataframe thead tr th {\n",
       "        text-align: left;\n",
       "    }\n",
       "\n",
       "    .dataframe thead tr:last-of-type th {\n",
       "        text-align: right;\n",
       "    }\n",
       "</style>\n",
       "<table border=\"1\" class=\"dataframe\">\n",
       "  <thead>\n",
       "    <tr>\n",
       "      <th>segment</th>\n",
       "      <th>segment_1</th>\n",
       "    </tr>\n",
       "    <tr>\n",
       "      <th>feature</th>\n",
       "      <th>target</th>\n",
       "    </tr>\n",
       "    <tr>\n",
       "      <th>timestamp</th>\n",
       "      <th></th>\n",
       "    </tr>\n",
       "  </thead>\n",
       "  <tbody>\n",
       "    <tr>\n",
       "      <th>2022-01-01</th>\n",
       "      <td>898.0</td>\n",
       "    </tr>\n",
       "    <tr>\n",
       "      <th>2022-01-02</th>\n",
       "      <td>3167.0</td>\n",
       "    </tr>\n",
       "    <tr>\n",
       "      <th>2022-01-03</th>\n",
       "      <td>3380.0</td>\n",
       "    </tr>\n",
       "    <tr>\n",
       "      <th>2022-01-04</th>\n",
       "      <td>3423.0</td>\n",
       "    </tr>\n",
       "    <tr>\n",
       "      <th>2022-01-05</th>\n",
       "      <td>3373.0</td>\n",
       "    </tr>\n",
       "    <tr>\n",
       "      <th>...</th>\n",
       "      <td>...</td>\n",
       "    </tr>\n",
       "    <tr>\n",
       "      <th>2024-02-14</th>\n",
       "      <td>2486.0</td>\n",
       "    </tr>\n",
       "    <tr>\n",
       "      <th>2024-02-15</th>\n",
       "      <td>1801.0</td>\n",
       "    </tr>\n",
       "    <tr>\n",
       "      <th>2024-02-16</th>\n",
       "      <td>3075.0</td>\n",
       "    </tr>\n",
       "    <tr>\n",
       "      <th>2024-02-17</th>\n",
       "      <td>4536.0</td>\n",
       "    </tr>\n",
       "    <tr>\n",
       "      <th>2024-02-18</th>\n",
       "      <td>3576.0</td>\n",
       "    </tr>\n",
       "  </tbody>\n",
       "</table>\n",
       "<p>779 rows × 1 columns</p>\n",
       "</div>"
      ],
      "text/plain": [
       "segment    segment_1\n",
       "feature       target\n",
       "timestamp           \n",
       "2022-01-01     898.0\n",
       "2022-01-02    3167.0\n",
       "2022-01-03    3380.0\n",
       "2022-01-04    3423.0\n",
       "2022-01-05    3373.0\n",
       "...              ...\n",
       "2024-02-14    2486.0\n",
       "2024-02-15    1801.0\n",
       "2024-02-16    3075.0\n",
       "2024-02-17    4536.0\n",
       "2024-02-18    3576.0\n",
       "\n",
       "[779 rows x 1 columns]"
      ]
     },
     "execution_count": 747,
     "metadata": {},
     "output_type": "execute_result"
    }
   ],
   "source": [
    "train_tsd"
   ]
  },
  {
   "cell_type": "code",
   "execution_count": 748,
   "metadata": {},
   "outputs": [
    {
     "data": {
      "text/html": [
       "<div>\n",
       "<style scoped>\n",
       "    .dataframe tbody tr th:only-of-type {\n",
       "        vertical-align: middle;\n",
       "    }\n",
       "\n",
       "    .dataframe tbody tr th {\n",
       "        vertical-align: top;\n",
       "    }\n",
       "\n",
       "    .dataframe thead tr th {\n",
       "        text-align: left;\n",
       "    }\n",
       "\n",
       "    .dataframe thead tr:last-of-type th {\n",
       "        text-align: right;\n",
       "    }\n",
       "</style>\n",
       "<table border=\"1\" class=\"dataframe\">\n",
       "  <thead>\n",
       "    <tr>\n",
       "      <th>segment</th>\n",
       "      <th>segment_1</th>\n",
       "    </tr>\n",
       "    <tr>\n",
       "      <th>feature</th>\n",
       "      <th>target</th>\n",
       "    </tr>\n",
       "    <tr>\n",
       "      <th>timestamp</th>\n",
       "      <th></th>\n",
       "    </tr>\n",
       "  </thead>\n",
       "  <tbody>\n",
       "    <tr>\n",
       "      <th>2024-02-19</th>\n",
       "      <td>2106.0</td>\n",
       "    </tr>\n",
       "    <tr>\n",
       "      <th>2024-02-20</th>\n",
       "      <td>2343.0</td>\n",
       "    </tr>\n",
       "    <tr>\n",
       "      <th>2024-02-21</th>\n",
       "      <td>2746.0</td>\n",
       "    </tr>\n",
       "    <tr>\n",
       "      <th>2024-02-22</th>\n",
       "      <td>3790.0</td>\n",
       "    </tr>\n",
       "    <tr>\n",
       "      <th>2024-02-23</th>\n",
       "      <td>4696.0</td>\n",
       "    </tr>\n",
       "    <tr>\n",
       "      <th>...</th>\n",
       "      <td>...</td>\n",
       "    </tr>\n",
       "    <tr>\n",
       "      <th>2024-05-21</th>\n",
       "      <td>2343.0</td>\n",
       "    </tr>\n",
       "    <tr>\n",
       "      <th>2024-05-22</th>\n",
       "      <td>2294.0</td>\n",
       "    </tr>\n",
       "    <tr>\n",
       "      <th>2024-05-23</th>\n",
       "      <td>2344.0</td>\n",
       "    </tr>\n",
       "    <tr>\n",
       "      <th>2024-05-24</th>\n",
       "      <td>3152.0</td>\n",
       "    </tr>\n",
       "    <tr>\n",
       "      <th>2024-05-25</th>\n",
       "      <td>3994.0</td>\n",
       "    </tr>\n",
       "  </tbody>\n",
       "</table>\n",
       "<p>97 rows × 1 columns</p>\n",
       "</div>"
      ],
      "text/plain": [
       "segment    segment_1\n",
       "feature       target\n",
       "timestamp           \n",
       "2024-02-19    2106.0\n",
       "2024-02-20    2343.0\n",
       "2024-02-21    2746.0\n",
       "2024-02-22    3790.0\n",
       "2024-02-23    4696.0\n",
       "...              ...\n",
       "2024-05-21    2343.0\n",
       "2024-05-22    2294.0\n",
       "2024-05-23    2344.0\n",
       "2024-05-24    3152.0\n",
       "2024-05-25    3994.0\n",
       "\n",
       "[97 rows x 1 columns]"
      ]
     },
     "execution_count": 748,
     "metadata": {},
     "output_type": "execute_result"
    }
   ],
   "source": [
    "valid_tsd"
   ]
  },
  {
   "cell_type": "code",
   "execution_count": 749,
   "metadata": {},
   "outputs": [],
   "source": [
    "from etna.transforms import DateFlagsTransform, HolidayTransform\n",
    "\n",
    "date_tr = DateFlagsTransform(out_column=\"date_flags\", \n",
    "                             day_number_in_week=True,\n",
    "                             day_number_in_month=True,\n",
    "                             week_number_in_month=True,\n",
    "                             is_weekend=True,\n",
    "                            )"
   ]
  },
  {
   "cell_type": "code",
   "execution_count": 750,
   "metadata": {},
   "outputs": [],
   "source": [
    "from etna.transforms import LagTransform\n",
    "lag_features = LagTransform(in_column=\"target\", out_column=\"lags\", lags=[1, 2, 3])"
   ]
  },
  {
   "cell_type": "code",
   "execution_count": 751,
   "metadata": {},
   "outputs": [],
   "source": [
    "holiday = HolidayTransform(iso_code='RUS', out_column='holidays')"
   ]
  },
  {
   "cell_type": "code",
   "execution_count": 752,
   "metadata": {},
   "outputs": [
    {
     "name": "stderr",
     "output_type": "stream",
     "text": [
      "/home/denis/miniforge3/envs/hackathon_time/lib/python3.10/site-packages/etna/transforms/math/sklearn.py:72: UserWarning: Transformation will be applied inplace, out_column param will be ignored\n",
      "  warnings.warn(\"Transformation will be applied inplace, out_column param will be ignored\")\n"
     ]
    },
    {
     "ename": "TypeError",
     "evalue": "TreeFeatureSelectionTransform.__init__() missing 1 required positional argument: 'model'",
     "output_type": "error",
     "traceback": [
      "\u001b[0;31m---------------------------------------------------------------------------\u001b[0m",
      "\u001b[0;31mTypeError\u001b[0m                                 Traceback (most recent call last)",
      "Cell \u001b[0;32mIn[752], line 30\u001b[0m\n\u001b[1;32m      1\u001b[0m \u001b[38;5;28;01mfrom\u001b[39;00m \u001b[38;5;21;01metna\u001b[39;00m\u001b[38;5;21;01m.\u001b[39;00m\u001b[38;5;21;01mtransforms\u001b[39;00m \u001b[38;5;28;01mimport\u001b[39;00m (\n\u001b[1;32m      2\u001b[0m     LinearTrendTransform,\n\u001b[1;32m      3\u001b[0m     DensityOutliersTransform,\n\u001b[0;32m   (...)\u001b[0m\n\u001b[1;32m      6\u001b[0m     TreeFeatureSelectionTransform\n\u001b[1;32m      7\u001b[0m )\n\u001b[1;32m      9\u001b[0m transforms \u001b[38;5;241m=\u001b[39m [\n\u001b[1;32m     10\u001b[0m     DensityOutliersTransform(\n\u001b[1;32m     11\u001b[0m         in_column\u001b[38;5;241m=\u001b[39m\u001b[38;5;124m\"\u001b[39m\u001b[38;5;124mtarget\u001b[39m\u001b[38;5;124m\"\u001b[39m,\n\u001b[1;32m     12\u001b[0m         window_size\u001b[38;5;241m=\u001b[39m\u001b[38;5;241m45\u001b[39m,\n\u001b[1;32m     13\u001b[0m         n_neighbors\u001b[38;5;241m=\u001b[39m\u001b[38;5;241m25\u001b[39m,\n\u001b[1;32m     14\u001b[0m         distance_coef\u001b[38;5;241m=\u001b[39m\u001b[38;5;241m1.9\u001b[39m\n\u001b[1;32m     15\u001b[0m     ),\n\u001b[1;32m     16\u001b[0m     TimeSeriesImputerTransform(\n\u001b[1;32m     17\u001b[0m         in_column\u001b[38;5;241m=\u001b[39m\u001b[38;5;124m\"\u001b[39m\u001b[38;5;124mtarget\u001b[39m\u001b[38;5;124m\"\u001b[39m,\n\u001b[1;32m     18\u001b[0m         strategy\u001b[38;5;241m=\u001b[39m\u001b[38;5;124m\"\u001b[39m\u001b[38;5;124mrunning_mean\u001b[39m\u001b[38;5;124m\"\u001b[39m\n\u001b[1;32m     19\u001b[0m     ),\n\u001b[1;32m     20\u001b[0m     LinearTrendTransform(in_column\u001b[38;5;241m=\u001b[39m\u001b[38;5;124m\"\u001b[39m\u001b[38;5;124mtarget\u001b[39m\u001b[38;5;124m\"\u001b[39m),\n\u001b[1;32m     21\u001b[0m     LagTransform(in_column\u001b[38;5;241m=\u001b[39m\u001b[38;5;124m\"\u001b[39m\u001b[38;5;124mtarget\u001b[39m\u001b[38;5;124m\"\u001b[39m, out_column\u001b[38;5;241m=\u001b[39m\u001b[38;5;124m\"\u001b[39m\u001b[38;5;124mlags\u001b[39m\u001b[38;5;124m\"\u001b[39m, lags\u001b[38;5;241m=\u001b[39m[\u001b[38;5;241m1\u001b[39m, \u001b[38;5;241m2\u001b[39m, \u001b[38;5;241m3\u001b[39m]),\n\u001b[1;32m     22\u001b[0m     DateFlagsTransform(out_column\u001b[38;5;241m=\u001b[39m\u001b[38;5;124m\"\u001b[39m\u001b[38;5;124mdate_flags\u001b[39m\u001b[38;5;124m\"\u001b[39m, \n\u001b[1;32m     23\u001b[0m                              day_number_in_week\u001b[38;5;241m=\u001b[39m\u001b[38;5;28;01mTrue\u001b[39;00m,\n\u001b[1;32m     24\u001b[0m                              day_number_in_month\u001b[38;5;241m=\u001b[39m\u001b[38;5;28;01mTrue\u001b[39;00m,\n\u001b[1;32m     25\u001b[0m                              week_number_in_month\u001b[38;5;241m=\u001b[39m\u001b[38;5;28;01mTrue\u001b[39;00m,\n\u001b[1;32m     26\u001b[0m                              is_weekend\u001b[38;5;241m=\u001b[39m\u001b[38;5;28;01mTrue\u001b[39;00m,\n\u001b[1;32m     27\u001b[0m                             ),\n\u001b[1;32m     28\u001b[0m     MeanTransform(in_column\u001b[38;5;241m=\u001b[39m\u001b[38;5;124m\"\u001b[39m\u001b[38;5;124mtarget\u001b[39m\u001b[38;5;124m\"\u001b[39m, out_column\u001b[38;5;241m=\u001b[39m\u001b[38;5;124m\"\u001b[39m\u001b[38;5;124mmean\u001b[39m\u001b[38;5;124m\"\u001b[39m, window\u001b[38;5;241m=\u001b[39m\u001b[38;5;241m5\u001b[39m),\n\u001b[1;32m     29\u001b[0m     StandardScalerTransform(in_column\u001b[38;5;241m=\u001b[39m\u001b[38;5;124m'\u001b[39m\u001b[38;5;124mtarget\u001b[39m\u001b[38;5;124m'\u001b[39m, out_column\u001b[38;5;241m=\u001b[39m\u001b[38;5;124m'\u001b[39m\u001b[38;5;124mtarget\u001b[39m\u001b[38;5;124m'\u001b[39m),\n\u001b[0;32m---> 30\u001b[0m     \u001b[43mTreeFeatureSelectionTransform\u001b[49m\u001b[43m(\u001b[49m\u001b[43mtop_k\u001b[49m\u001b[38;5;241;43m=\u001b[39;49m\u001b[38;5;241;43m6\u001b[39;49m\u001b[43m,\u001b[49m\u001b[43m \u001b[49m\u001b[43mfeatures_to_use\u001b[49m\u001b[38;5;241;43m=\u001b[39;49m\u001b[43m[\u001b[49m\u001b[38;5;124;43m'\u001b[39;49m\u001b[38;5;124;43mlags\u001b[39;49m\u001b[38;5;124;43m'\u001b[39;49m\u001b[43m,\u001b[49m\u001b[43m \u001b[49m\u001b[38;5;124;43m'\u001b[39;49m\u001b[38;5;124;43mmean\u001b[39;49m\u001b[38;5;124;43m'\u001b[39;49m\u001b[43m]\u001b[49m\u001b[43m)\u001b[49m\n\u001b[1;32m     31\u001b[0m ]\n",
      "\u001b[0;31mTypeError\u001b[0m: TreeFeatureSelectionTransform.__init__() missing 1 required positional argument: 'model'"
     ]
    }
   ],
   "source": [
    "from etna.transforms import (\n",
    "    LinearTrendTransform,\n",
    "    DensityOutliersTransform,\n",
    "    TimeSeriesImputerTransform,\n",
    "    StandardScalerTransform\n",
    ")\n",
    "\n",
    "transforms = [\n",
    "    DensityOutliersTransform(\n",
    "        in_column=\"target\",\n",
    "        window_size=45,\n",
    "        n_neighbors=25,\n",
    "        distance_coef=1.9\n",
    "    ),\n",
    "    TimeSeriesImputerTransform(\n",
    "        in_column=\"target\",\n",
    "        strategy=\"running_mean\"\n",
    "    ),\n",
    "    LinearTrendTransform(in_column=\"target\"),\n",
    "    LagTransform(in_column=\"target\", out_column=\"lags\", lags=[1, 2, 3]),\n",
    "    DateFlagsTransform(out_column=\"date_flags\", \n",
    "                             day_number_in_week=True,\n",
    "                             day_number_in_month=True,\n",
    "                             week_number_in_month=True,\n",
    "                             is_weekend=True,\n",
    "                            ),\n",
    "    MeanTransform(in_column=\"target\", out_column=\"mean\", window=5),\n",
    "    StandardScalerTransform(in_column='target', out_column='target')\n",
    "]"
   ]
  },
  {
   "cell_type": "code",
   "execution_count": 735,
   "metadata": {},
   "outputs": [
    {
     "name": "stderr",
     "output_type": "stream",
     "text": [
      "[Parallel(n_jobs=1)]: Done   1 tasks      | elapsed:    0.4s\n",
      "[Parallel(n_jobs=1)]: Done   2 tasks      | elapsed:    0.7s\n",
      "[Parallel(n_jobs=1)]: Done   3 tasks      | elapsed:    1.1s\n",
      "[Parallel(n_jobs=1)]: Done   4 tasks      | elapsed:    1.4s\n",
      "[Parallel(n_jobs=1)]: Done   5 tasks      | elapsed:    1.7s\n",
      "[Parallel(n_jobs=1)]: Done   5 tasks      | elapsed:    1.7s\n",
      "[Parallel(n_jobs=1)]: Done   1 tasks      | elapsed:    0.1s\n",
      "[Parallel(n_jobs=1)]: Done   2 tasks      | elapsed:    0.2s\n",
      "[Parallel(n_jobs=1)]: Done   3 tasks      | elapsed:    0.3s\n",
      "[Parallel(n_jobs=1)]: Done   4 tasks      | elapsed:    0.4s\n",
      "[Parallel(n_jobs=1)]: Done   5 tasks      | elapsed:    0.5s\n",
      "[Parallel(n_jobs=1)]: Done   5 tasks      | elapsed:    0.5s\n",
      "[Parallel(n_jobs=1)]: Done   1 tasks      | elapsed:    0.0s\n",
      "[Parallel(n_jobs=1)]: Done   2 tasks      | elapsed:    0.0s\n",
      "[Parallel(n_jobs=1)]: Done   3 tasks      | elapsed:    0.1s\n",
      "[Parallel(n_jobs=1)]: Done   4 tasks      | elapsed:    0.1s\n",
      "[Parallel(n_jobs=1)]: Done   5 tasks      | elapsed:    0.1s\n",
      "[Parallel(n_jobs=1)]: Done   5 tasks      | elapsed:    0.1s\n"
     ]
    }
   ],
   "source": [
    "from etna.models import CatBoostPerSegmentModel\n",
    "from etna.transforms import LagTransform, MeanTransform, DateFlagsTransform\n",
    "from etna.pipeline import Pipeline\n",
    "from etna.metrics import RMSE\n",
    "import numpy as np\n",
    "import matplotlib.pyplot as plt\n",
    "\n",
    "# 1. Модель CatBoost с исправленными параметрами\n",
    "catboost_model_2 = CatBoostPerSegmentModel(\n",
    "    n_estimators=250,  # количество деревьев\n",
    "    learning_rate=0.1,  # скорость обучения\n",
    "    depth=6,  # глубина деревьев\n",
    "    random_state=42  # фиксируем random_state для воспроизводимости\n",
    ")\n",
    "\n",
    "pipe = Pipeline(model=catboost_model_2, transforms=transforms, \n",
    "                                                    horizon=30)\n",
    "\n",
    "metrics, forecasts, _ = pipe.backtest(train_tsd, metrics=[RMSE()], aggregate_metrics=True, n_folds=5)\n",
    "\n"
   ]
  },
  {
   "cell_type": "code",
   "execution_count": 736,
   "metadata": {},
   "outputs": [
    {
     "data": {
      "text/plain": [
       "<bound method NDFrame._add_numeric_operations.<locals>.mean of      segment        RMSE\n",
       "0  segment_1  911.461448>"
      ]
     },
     "execution_count": 736,
     "metadata": {},
     "output_type": "execute_result"
    }
   ],
   "source": [
    "metrics.mean"
   ]
  },
  {
   "cell_type": "code",
   "execution_count": 737,
   "metadata": {},
   "outputs": [
    {
     "ename": "ValueError",
     "evalue": "y_true and y_pred have different timestamps",
     "output_type": "error",
     "traceback": [
      "\u001b[0;31m---------------------------------------------------------------------------\u001b[0m",
      "\u001b[0;31mValueError\u001b[0m                                Traceback (most recent call last)",
      "Cell \u001b[0;32mIn[737], line 2\u001b[0m\n\u001b[1;32m      1\u001b[0m rmse \u001b[38;5;241m=\u001b[39m RMSE()\n\u001b[0;32m----> 2\u001b[0m rmse_2 \u001b[38;5;241m=\u001b[39m \u001b[43mrmse\u001b[49m\u001b[43m(\u001b[49m\u001b[43my_true\u001b[49m\u001b[38;5;241;43m=\u001b[39;49m\u001b[43mvalid_tsd\u001b[49m\u001b[43m,\u001b[49m\u001b[43m \u001b[49m\u001b[43my_pred\u001b[49m\u001b[38;5;241;43m=\u001b[39;49m\u001b[43mforecast_ts_2\u001b[49m\u001b[43m)\u001b[49m\n\u001b[1;32m      3\u001b[0m \u001b[38;5;28mprint\u001b[39m(\u001b[38;5;124mf\u001b[39m\u001b[38;5;124m\"\u001b[39m\u001b[38;5;124mRaw RMSE: \u001b[39m\u001b[38;5;132;01m{\u001b[39;00mrmse_2[\u001b[38;5;124m'\u001b[39m\u001b[38;5;124mraw\u001b[39m\u001b[38;5;124m'\u001b[39m]\u001b[38;5;132;01m}\u001b[39;00m\u001b[38;5;124m\"\u001b[39m)\n\u001b[1;32m      5\u001b[0m \u001b[38;5;66;03m# 8. Выводим RMSE\u001b[39;00m\n",
      "File \u001b[0;32m~/miniforge3/envs/hackathon_time/lib/python3.10/site-packages/etna/metrics/base.py:317\u001b[0m, in \u001b[0;36mMetric.__call__\u001b[0;34m(self, y_true, y_pred)\u001b[0m\n\u001b[1;32m    315\u001b[0m \u001b[38;5;28mself\u001b[39m\u001b[38;5;241m.\u001b[39m_validate_segments(y_true\u001b[38;5;241m=\u001b[39my_true, y_pred\u001b[38;5;241m=\u001b[39my_pred)\n\u001b[1;32m    316\u001b[0m \u001b[38;5;28mself\u001b[39m\u001b[38;5;241m.\u001b[39m_validate_target_columns(y_true\u001b[38;5;241m=\u001b[39my_true, y_pred\u001b[38;5;241m=\u001b[39my_pred)\n\u001b[0;32m--> 317\u001b[0m \u001b[38;5;28;43mself\u001b[39;49m\u001b[38;5;241;43m.\u001b[39;49m\u001b[43m_validate_index\u001b[49m\u001b[43m(\u001b[49m\u001b[43my_true\u001b[49m\u001b[38;5;241;43m=\u001b[39;49m\u001b[43my_true\u001b[49m\u001b[43m,\u001b[49m\u001b[43m \u001b[49m\u001b[43my_pred\u001b[49m\u001b[38;5;241;43m=\u001b[39;49m\u001b[43my_pred\u001b[49m\u001b[43m)\u001b[49m\n\u001b[1;32m    318\u001b[0m \u001b[38;5;28mself\u001b[39m\u001b[38;5;241m.\u001b[39m_validate_nans(y_true\u001b[38;5;241m=\u001b[39my_true, y_pred\u001b[38;5;241m=\u001b[39my_pred)\n\u001b[1;32m    320\u001b[0m df_true \u001b[38;5;241m=\u001b[39m y_true[:, :, \u001b[38;5;124m\"\u001b[39m\u001b[38;5;124mtarget\u001b[39m\u001b[38;5;124m\"\u001b[39m]\u001b[38;5;241m.\u001b[39msort_index(axis\u001b[38;5;241m=\u001b[39m\u001b[38;5;241m1\u001b[39m)\n",
      "File \u001b[0;32m~/miniforge3/envs/hackathon_time/lib/python3.10/site-packages/etna/metrics/base.py:231\u001b[0m, in \u001b[0;36mMetric._validate_index\u001b[0;34m(y_true, y_pred)\u001b[0m\n\u001b[1;32m    216\u001b[0m \u001b[38;5;250m\u001b[39m\u001b[38;5;124;03m\"\"\"Check that ``y_true`` and ``y_pred`` have the same timestamps.\u001b[39;00m\n\u001b[1;32m    217\u001b[0m \n\u001b[1;32m    218\u001b[0m \u001b[38;5;124;03mParameters\u001b[39;00m\n\u001b[0;32m   (...)\u001b[0m\n\u001b[1;32m    228\u001b[0m \u001b[38;5;124;03m    If there are mismatches in ``y_true`` and ``y_pred`` timestamps\u001b[39;00m\n\u001b[1;32m    229\u001b[0m \u001b[38;5;124;03m\"\"\"\u001b[39;00m\n\u001b[1;32m    230\u001b[0m \u001b[38;5;28;01mif\u001b[39;00m \u001b[38;5;129;01mnot\u001b[39;00m y_true\u001b[38;5;241m.\u001b[39mindex\u001b[38;5;241m.\u001b[39mequals(y_pred\u001b[38;5;241m.\u001b[39mindex):\n\u001b[0;32m--> 231\u001b[0m     \u001b[38;5;28;01mraise\u001b[39;00m \u001b[38;5;167;01mValueError\u001b[39;00m(\u001b[38;5;124m\"\u001b[39m\u001b[38;5;124my_true and y_pred have different timestamps\u001b[39m\u001b[38;5;124m\"\u001b[39m)\n",
      "\u001b[0;31mValueError\u001b[0m: y_true and y_pred have different timestamps"
     ]
    }
   ],
   "source": [
    "rmse = RMSE()\n",
    "rmse_2 = rmse(y_true=valid_tsd, y_pred=forecast_ts_2)\n",
    "print(f\"Raw RMSE: {rmse_2['raw']}\")\n",
    "\n",
    "# 8. Выводим RMSE\n",
    "rmse_value = (rmse_2['raw'])\n",
    "print(f\"RMSE: {round(rmse_value, 2)}\")"
   ]
  },
  {
   "cell_type": "code",
   "execution_count": 229,
   "metadata": {},
   "outputs": [
    {
     "name": "stderr",
     "output_type": "stream",
     "text": [
      "[Parallel(n_jobs=1)]: Done   1 tasks      | elapsed:    0.8s\n",
      "[Parallel(n_jobs=1)]: Done   2 tasks      | elapsed:    1.8s\n",
      "[Parallel(n_jobs=1)]: Done   3 tasks      | elapsed:    2.7s\n",
      "[Parallel(n_jobs=1)]: Done   3 tasks      | elapsed:    2.7s\n",
      "[Parallel(n_jobs=1)]: Done   1 tasks      | elapsed:    0.1s\n",
      "[Parallel(n_jobs=1)]: Done   2 tasks      | elapsed:    0.1s\n",
      "[Parallel(n_jobs=1)]: Done   3 tasks      | elapsed:    0.2s\n",
      "[Parallel(n_jobs=1)]: Done   3 tasks      | elapsed:    0.2s\n",
      "[Parallel(n_jobs=1)]: Done   1 tasks      | elapsed:    0.0s\n",
      "[Parallel(n_jobs=1)]: Done   2 tasks      | elapsed:    0.0s\n",
      "[Parallel(n_jobs=1)]: Done   3 tasks      | elapsed:    0.1s\n",
      "[Parallel(n_jobs=1)]: Done   3 tasks      | elapsed:    0.1s\n"
     ]
    }
   ],
   "source": [
    "model = CatBoostPerSegmentModel()\n",
    "\n",
    "pipe = Pipeline(model=model, transforms=[lag_3_days, mean_tr, date_tr], \n",
    "                horizon=30)\n",
    "\n",
    "rmse = RMSE()\n",
    "\n",
    "\n",
    "\n",
    "metrics, forecast, info = pipe.backtest(ts=ts_with_features, metrics=[rmse], n_folds=3)\n"
   ]
  },
  {
   "cell_type": "code",
   "execution_count": 230,
   "metadata": {},
   "outputs": [
    {
     "name": "stderr",
     "output_type": "stream",
     "text": [
      "/tmp/ipykernel_404484/3493762479.py:1: FutureWarning: The default value of numeric_only in DataFrame.mean is deprecated. In a future version, it will default to False. In addition, specifying 'numeric_only=None' is deprecated. Select only valid columns or specify the value of numeric_only to silence this warning.\n",
      "  metrics.mean()\n"
     ]
    },
    {
     "data": {
      "text/plain": [
       "RMSE           675.476023\n",
       "fold_number      1.000000\n",
       "dtype: float64"
      ]
     },
     "execution_count": 230,
     "metadata": {},
     "output_type": "execute_result"
    }
   ],
   "source": [
    "metrics.mean()"
   ]
  },
  {
   "cell_type": "code",
   "execution_count": 152,
   "metadata": {},
   "outputs": [
    {
     "data": {
      "text/html": [
       "<div>\n",
       "<style scoped>\n",
       "    .dataframe tbody tr th:only-of-type {\n",
       "        vertical-align: middle;\n",
       "    }\n",
       "\n",
       "    .dataframe tbody tr th {\n",
       "        vertical-align: top;\n",
       "    }\n",
       "\n",
       "    .dataframe thead tr th {\n",
       "        text-align: left;\n",
       "    }\n",
       "\n",
       "    .dataframe thead tr:last-of-type th {\n",
       "        text-align: right;\n",
       "    }\n",
       "</style>\n",
       "<table border=\"1\" class=\"dataframe\">\n",
       "  <thead>\n",
       "    <tr>\n",
       "      <th>segment</th>\n",
       "      <th colspan=\"6\" halign=\"left\">segment_1</th>\n",
       "    </tr>\n",
       "    <tr>\n",
       "      <th>feature</th>\n",
       "      <th>date_flags_day_number_in_month</th>\n",
       "      <th>date_flags_day_number_in_week</th>\n",
       "      <th>date_flags_is_weekend</th>\n",
       "      <th>date_flags_week_number_in_month</th>\n",
       "      <th>mean</th>\n",
       "      <th>target</th>\n",
       "    </tr>\n",
       "    <tr>\n",
       "      <th>timestamp</th>\n",
       "      <th></th>\n",
       "      <th></th>\n",
       "      <th></th>\n",
       "      <th></th>\n",
       "      <th></th>\n",
       "      <th></th>\n",
       "    </tr>\n",
       "  </thead>\n",
       "  <tbody>\n",
       "    <tr>\n",
       "      <th>2022-01-01</th>\n",
       "      <td>1</td>\n",
       "      <td>5</td>\n",
       "      <td>True</td>\n",
       "      <td>1</td>\n",
       "      <td>898.000000</td>\n",
       "      <td>898.0</td>\n",
       "    </tr>\n",
       "    <tr>\n",
       "      <th>2022-01-02</th>\n",
       "      <td>2</td>\n",
       "      <td>6</td>\n",
       "      <td>True</td>\n",
       "      <td>1</td>\n",
       "      <td>2032.500000</td>\n",
       "      <td>3167.0</td>\n",
       "    </tr>\n",
       "    <tr>\n",
       "      <th>2022-01-03</th>\n",
       "      <td>3</td>\n",
       "      <td>0</td>\n",
       "      <td>False</td>\n",
       "      <td>2</td>\n",
       "      <td>2481.666667</td>\n",
       "      <td>3380.0</td>\n",
       "    </tr>\n",
       "    <tr>\n",
       "      <th>2022-01-04</th>\n",
       "      <td>4</td>\n",
       "      <td>1</td>\n",
       "      <td>False</td>\n",
       "      <td>2</td>\n",
       "      <td>2717.000000</td>\n",
       "      <td>3423.0</td>\n",
       "    </tr>\n",
       "    <tr>\n",
       "      <th>2022-01-05</th>\n",
       "      <td>5</td>\n",
       "      <td>2</td>\n",
       "      <td>False</td>\n",
       "      <td>2</td>\n",
       "      <td>2848.200000</td>\n",
       "      <td>3373.0</td>\n",
       "    </tr>\n",
       "  </tbody>\n",
       "</table>\n",
       "</div>"
      ],
      "text/plain": [
       "segment                         segment_1                                \\\n",
       "feature    date_flags_day_number_in_month date_flags_day_number_in_week   \n",
       "timestamp                                                                 \n",
       "2022-01-01                              1                             5   \n",
       "2022-01-02                              2                             6   \n",
       "2022-01-03                              3                             0   \n",
       "2022-01-04                              4                             1   \n",
       "2022-01-05                              5                             2   \n",
       "\n",
       "segment                                                                        \\\n",
       "feature    date_flags_is_weekend date_flags_week_number_in_month         mean   \n",
       "timestamp                                                                       \n",
       "2022-01-01                  True                               1   898.000000   \n",
       "2022-01-02                  True                               1  2032.500000   \n",
       "2022-01-03                 False                               2  2481.666667   \n",
       "2022-01-04                 False                               2  2717.000000   \n",
       "2022-01-05                 False                               2  2848.200000   \n",
       "\n",
       "segment             \n",
       "feature     target  \n",
       "timestamp           \n",
       "2022-01-01   898.0  \n",
       "2022-01-02  3167.0  \n",
       "2022-01-03  3380.0  \n",
       "2022-01-04  3423.0  \n",
       "2022-01-05  3373.0  "
      ]
     },
     "execution_count": 152,
     "metadata": {},
     "output_type": "execute_result"
    }
   ],
   "source": [
    "ts_with_features.head()"
   ]
  },
  {
   "cell_type": "code",
   "execution_count": 153,
   "metadata": {},
   "outputs": [
    {
     "data": {
      "text/html": [
       "<div>\n",
       "<style scoped>\n",
       "    .dataframe tbody tr th:only-of-type {\n",
       "        vertical-align: middle;\n",
       "    }\n",
       "\n",
       "    .dataframe tbody tr th {\n",
       "        vertical-align: top;\n",
       "    }\n",
       "\n",
       "    .dataframe thead tr th {\n",
       "        text-align: left;\n",
       "    }\n",
       "\n",
       "    .dataframe thead tr:last-of-type th {\n",
       "        text-align: right;\n",
       "    }\n",
       "</style>\n",
       "<table border=\"1\" class=\"dataframe\">\n",
       "  <thead>\n",
       "    <tr>\n",
       "      <th>segment</th>\n",
       "      <th colspan=\"10\" halign=\"left\">segment_1</th>\n",
       "    </tr>\n",
       "    <tr>\n",
       "      <th>feature</th>\n",
       "      <th>date_flags_day_number_in_month</th>\n",
       "      <th>date_flags_day_number_in_week</th>\n",
       "      <th>date_flags_is_weekend</th>\n",
       "      <th>date_flags_week_number_in_month</th>\n",
       "      <th>fold_number</th>\n",
       "      <th>lags_1</th>\n",
       "      <th>lags_2</th>\n",
       "      <th>lags_3</th>\n",
       "      <th>mean</th>\n",
       "      <th>target</th>\n",
       "    </tr>\n",
       "    <tr>\n",
       "      <th>timestamp</th>\n",
       "      <th></th>\n",
       "      <th></th>\n",
       "      <th></th>\n",
       "      <th></th>\n",
       "      <th></th>\n",
       "      <th></th>\n",
       "      <th></th>\n",
       "      <th></th>\n",
       "      <th></th>\n",
       "      <th></th>\n",
       "    </tr>\n",
       "  </thead>\n",
       "  <tbody>\n",
       "    <tr>\n",
       "      <th>2024-04-04</th>\n",
       "      <td>4</td>\n",
       "      <td>3</td>\n",
       "      <td>False</td>\n",
       "      <td>1</td>\n",
       "      <td>0</td>\n",
       "      <td>2180.0</td>\n",
       "      <td>2045.0</td>\n",
       "      <td>2108.0</td>\n",
       "      <td>2451.0</td>\n",
       "      <td>2403.670747</td>\n",
       "    </tr>\n",
       "    <tr>\n",
       "      <th>2024-04-05</th>\n",
       "      <td>5</td>\n",
       "      <td>4</td>\n",
       "      <td>False</td>\n",
       "      <td>1</td>\n",
       "      <td>0</td>\n",
       "      <td>NaN</td>\n",
       "      <td>2180.0</td>\n",
       "      <td>2045.0</td>\n",
       "      <td>2111.0</td>\n",
       "      <td>2664.210269</td>\n",
       "    </tr>\n",
       "    <tr>\n",
       "      <th>2024-04-06</th>\n",
       "      <td>6</td>\n",
       "      <td>5</td>\n",
       "      <td>True</td>\n",
       "      <td>1</td>\n",
       "      <td>0</td>\n",
       "      <td>NaN</td>\n",
       "      <td>NaN</td>\n",
       "      <td>2180.0</td>\n",
       "      <td>2112.5</td>\n",
       "      <td>2767.492129</td>\n",
       "    </tr>\n",
       "    <tr>\n",
       "      <th>2024-04-07</th>\n",
       "      <td>7</td>\n",
       "      <td>6</td>\n",
       "      <td>True</td>\n",
       "      <td>1</td>\n",
       "      <td>0</td>\n",
       "      <td>NaN</td>\n",
       "      <td>NaN</td>\n",
       "      <td>NaN</td>\n",
       "      <td>2180.0</td>\n",
       "      <td>2587.131828</td>\n",
       "    </tr>\n",
       "    <tr>\n",
       "      <th>2024-04-08</th>\n",
       "      <td>8</td>\n",
       "      <td>0</td>\n",
       "      <td>False</td>\n",
       "      <td>2</td>\n",
       "      <td>0</td>\n",
       "      <td>NaN</td>\n",
       "      <td>NaN</td>\n",
       "      <td>NaN</td>\n",
       "      <td>0.0</td>\n",
       "      <td>1830.992950</td>\n",
       "    </tr>\n",
       "  </tbody>\n",
       "</table>\n",
       "</div>"
      ],
      "text/plain": [
       "segment                         segment_1                                \\\n",
       "feature    date_flags_day_number_in_month date_flags_day_number_in_week   \n",
       "timestamp                                                                 \n",
       "2024-04-04                              4                             3   \n",
       "2024-04-05                              5                             4   \n",
       "2024-04-06                              6                             5   \n",
       "2024-04-07                              7                             6   \n",
       "2024-04-08                              8                             0   \n",
       "\n",
       "segment                                                                       \\\n",
       "feature    date_flags_is_weekend date_flags_week_number_in_month fold_number   \n",
       "timestamp                                                                      \n",
       "2024-04-04                 False                               1           0   \n",
       "2024-04-05                 False                               1           0   \n",
       "2024-04-06                  True                               1           0   \n",
       "2024-04-07                  True                               1           0   \n",
       "2024-04-08                 False                               2           0   \n",
       "\n",
       "segment                                                  \n",
       "feature     lags_1  lags_2  lags_3    mean       target  \n",
       "timestamp                                                \n",
       "2024-04-04  2180.0  2045.0  2108.0  2451.0  2403.670747  \n",
       "2024-04-05     NaN  2180.0  2045.0  2111.0  2664.210269  \n",
       "2024-04-06     NaN     NaN  2180.0  2112.5  2767.492129  \n",
       "2024-04-07     NaN     NaN     NaN  2180.0  2587.131828  \n",
       "2024-04-08     NaN     NaN     NaN     0.0  1830.992950  "
      ]
     },
     "execution_count": 153,
     "metadata": {},
     "output_type": "execute_result"
    }
   ],
   "source": [
    "forecast.head()  # посмотрите на первые несколько строк прогноза\n"
   ]
  },
  {
   "cell_type": "code",
   "execution_count": 154,
   "metadata": {},
   "outputs": [],
   "source": [
    "# train_end = \"2024-02-01\"\n",
    "# val_end = \"2024-06-01\"\n",
    "# test_end = \"2024-08-31\"\n",
    "\n",
    "# train_data = data[data[\"timestamp\"] <= train_end]\n",
    "# val_data = data[(data[\"timestamp\"] > train_end) & (data[\"timestamp\"] <= val_end)]\n",
    "# test_data = data[(data[\"timestamp\"] > val_end) & (data[\"timestamp\"] <= test_end)]\n",
    "\n",
    "# # Преобразуем в TSDataset\n",
    "# train_tsd = TSDataset.to_dataset(train_data)\n",
    "# train_ts = TSDataset(train_tsd, freq=\"D\")\n",
    "\n",
    "# val_tsd = TSDataset.to_dataset(val_data)\n",
    "# val_ts = TSDataset(val_tsd, freq=\"D\")\n",
    "\n",
    "# test_tsd = TSDataset.to_dataset(test_data)\n",
    "# test_ts = TSDataset(test_tsd, freq=\"D\")\n"
   ]
  },
  {
   "cell_type": "code",
   "execution_count": 155,
   "metadata": {},
   "outputs": [
    {
     "data": {
      "text/plain": [
       "etna.datasets.tsdataset.TSDataset"
      ]
     },
     "execution_count": 155,
     "metadata": {},
     "output_type": "execute_result"
    }
   ],
   "source": [
    "type(train_ts)"
   ]
  },
  {
   "cell_type": "code",
   "execution_count": 156,
   "metadata": {},
   "outputs": [],
   "source": [
    "# train_end = \"2024-02-01\"\n",
    "# val_end = \"2024-06-01\"\n",
    "# test_end = \"2024-08-31\"\n",
    "\n",
    "# train_data = data[data[\"timestamp\"] <= train_end]\n",
    "# val_data = data[(data[\"timestamp\"] > train_end) & (data[\"timestamp\"] <= val_end)]\n",
    "# test_data = data[(data[\"timestamp\"] > val_end) & (data[\"timestamp\"] <= test_end)]\n",
    "\n",
    "# print(f\"Train: {len(train_data)} rows\")\n",
    "# print(f\"Validation: {len(val_data)} rows\")\n",
    "# print(f\"Test: {len(test_data)} rows\")"
   ]
  }
 ],
 "metadata": {
  "kernelspec": {
   "display_name": "hackathon_time",
   "language": "python",
   "name": "python3"
  },
  "language_info": {
   "codemirror_mode": {
    "name": "ipython",
    "version": 3
   },
   "file_extension": ".py",
   "mimetype": "text/x-python",
   "name": "python",
   "nbconvert_exporter": "python",
   "pygments_lexer": "ipython3",
   "version": "3.10.15"
  }
 },
 "nbformat": 4,
 "nbformat_minor": 2
}
