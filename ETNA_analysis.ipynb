{
 "cells": [
  {
   "cell_type": "code",
   "execution_count": 1082,
   "metadata": {},
   "outputs": [],
   "source": [
    "import pandas as pd\n",
    "from etna.datasets import TSDataset\n",
    "from etna.transforms import LagTransform, DateFlagsTransform\n",
    "from etna.models import CatBoostPerSegmentModel\n",
    "from etna.pipeline import Pipeline\n",
    "from etna.metrics import RMSE\n"
   ]
  },
  {
   "cell_type": "code",
   "execution_count": 1083,
   "metadata": {},
   "outputs": [],
   "source": [
    "import numpy as np\n",
    "import matplotlib.pyplot as plt\n",
    "from sklearn.linear_model import LinearRegression\n",
    "from statsmodels.tsa.seasonal import STL\n",
    "import seaborn as sns\n",
    "from scipy import stats\n",
    "import itertools\n",
    "from statsmodels.graphics.tsaplots import plot_acf\n",
    "from statsmodels.tsa.stattools import acf\n",
    "from statsmodels.tsa.stattools import adfuller\n",
    "from sklearn.model_selection import GridSearchCV, KFold\n",
    "from catboost import CatBoostRegressor\n",
    "from etna.models import CatBoostPerSegmentModel\n",
    "from etna.metrics import RMSE\n",
    "from etna.transforms import LagTransform, MeanTransform, DateFlagsTransform\n",
    "from etna.pipeline import Pipeline\n",
    "from etna.datasets import TSDataset\n",
    "from sklearn.model_selection import train_test_split\n",
    "from etna.transforms import DateFlagsTransform, HolidayTransform\n",
    "from etna.transforms import LagTransform\n",
    "\n"
   ]
  },
  {
   "cell_type": "code",
   "execution_count": 1084,
   "metadata": {},
   "outputs": [
    {
     "name": "stdout",
     "output_type": "stream",
     "text": [
      "   target  timestamp    segment\n",
      "0   898.0 2022-01-01  segment_1\n",
      "1  3167.0 2022-01-02  segment_1\n",
      "2  3380.0 2022-01-03  segment_1\n",
      "3  3423.0 2022-01-04  segment_1\n",
      "4  3373.0 2022-01-05  segment_1\n"
     ]
    }
   ],
   "source": [
    "import pandas as pd\n",
    "\n",
    "# Загрузка данных\n",
    "data_path1 = './hackathon/data1.csv'\n",
    "data1 = pd.read_csv(data_path1)\n",
    "\n",
    "data_path2 = './hackathon/data2.csv'\n",
    "data2 = pd.read_csv(data_path2)\n",
    "\n",
    "data_path3 = './hackathon/data3.csv'\n",
    "data3 = pd.read_csv(data_path3)\n",
    "\n",
    "data_path4 = './hackathon/data4.csv'\n",
    "data4 = pd.read_csv(data_path4)\n",
    "\n",
    "data_path5 = './hackathon/data5.csv'\n",
    "data5 = pd.read_csv(data_path5)\n",
    "\n",
    "# Преобразуем столбцы и создаем сегменты для каждого набора данных\n",
    "data1['segment'] = 'segment_1'\n",
    "data1 = data1.rename(columns={\"date\": \"timestamp\", \"value\": \"target\"})\n",
    "data1['timestamp'] = pd.to_datetime(data1['timestamp'])\n",
    "\n",
    "data2['segment'] = 'segment_2'\n",
    "data2 = data2.rename(columns={\"date\": \"timestamp\", \"value\": \"target\"})\n",
    "data2['timestamp'] = pd.to_datetime(data2['timestamp'])\n",
    "\n",
    "data3['segment'] = 'segment_3'\n",
    "data3 = data3.rename(columns={\"date\": \"timestamp\", \"value\": \"target\"})\n",
    "data3['timestamp'] = pd.to_datetime(data3['timestamp'])\n",
    "\n",
    "\n",
    "# Объединяем все данные в один DataFrame\n",
    "data = pd.concat([data1, data2, data3], ignore_index=True)\n",
    "data = data.fillna(0)\n",
    "# Проверяем результат\n",
    "print(data.head())\n"
   ]
  },
  {
   "cell_type": "code",
   "execution_count": 1085,
   "metadata": {},
   "outputs": [],
   "source": [
    "from etna.transforms import MeanTransform\n",
    "mean_tr = MeanTransform(in_column=\"target\", out_column=\"mean\", window=5)\n",
    "ts_with_features = TSDataset(data, freq=\"D\")"
   ]
  },
  {
   "cell_type": "code",
   "execution_count": 1086,
   "metadata": {},
   "outputs": [
    {
     "name": "stdout",
     "output_type": "stream",
     "text": [
      "Размер обучающего набора: (944, 3)\n",
      "Размер валидационного набора: (30, 3)\n"
     ]
    }
   ],
   "source": [
    "import pandas as pd\n",
    "from etna.datasets import TSDataset\n",
    "\n",
    "# Предположим, что ts_with_features — это ваш TSDataset\n",
    "df = ts_with_features.df  # df — это DataFrame внутри TSDataset\n",
    "\n",
    "# Сортируем данные по временной метке\n",
    "df = df.sort_values(by=\"timestamp\")\n",
    "\n",
    "# Получаем последние 30 дней для валидации\n",
    "valid_df = df[-30:].copy()\n",
    "\n",
    "# Обучающие данные — это все данные до последних 30 дней\n",
    "train_df = df[:-30].copy()\n",
    "\n",
    "# Преобразуем обратно в TSDataset\n",
    "train_tsd = TSDataset(df=train_df, freq=\"D\")\n",
    "valid_tsd = TSDataset(df=valid_df, freq=\"D\")\n",
    "\n",
    "# Проверим размеры и структуру данных\n",
    "print(f\"Размер обучающего набора: {train_df.shape}\")\n",
    "print(f\"Размер валидационного набора: {valid_df.shape}\")\n"
   ]
  },
  {
   "cell_type": "code",
   "execution_count": 1087,
   "metadata": {},
   "outputs": [
    {
     "name": "stderr",
     "output_type": "stream",
     "text": [
      "/home/denis/miniforge3/envs/hackathon_time/lib/python3.10/site-packages/etna/transforms/math/sklearn.py:72: UserWarning: Transformation will be applied inplace, out_column param will be ignored\n",
      "  warnings.warn(\"Transformation will be applied inplace, out_column param will be ignored\")\n"
     ]
    }
   ],
   "source": [
    "from etna.transforms import (\n",
    "    LinearTrendTransform,\n",
    "    DensityOutliersTransform,\n",
    "    TimeSeriesImputerTransform,\n",
    "    StandardScalerTransform\n",
    ")\n",
    "\n",
    "transforms = [\n",
    "    DensityOutliersTransform(\n",
    "        in_column=\"target\",\n",
    "        window_size=45,\n",
    "        n_neighbors=25,\n",
    "        distance_coef=1.9\n",
    "    ),\n",
    "    TimeSeriesImputerTransform(\n",
    "        in_column=\"target\",\n",
    "        strategy=\"running_mean\"  # линейная интерполяция для пропусков\n",
    "    ),\n",
    "    LinearTrendTransform(in_column=\"target\"),  # Тренд\n",
    "    LagTransform(in_column=\"target\", out_column=\"lags\", lags=[1, 2, 3, 7, 14, 30]),  # Больше лагов\n",
    "    DateFlagsTransform(out_column=\"date_flags\", \n",
    "                       day_number_in_week=True,\n",
    "                       day_number_in_month=True,\n",
    "                       week_number_in_month=True,\n",
    "                       is_weekend=True),\n",
    "    MeanTransform(in_column=\"target\", out_column=\"mean\", window=5),  # Сглаживание\n",
    "    StandardScalerTransform(in_column='target', out_column='target')  # Нормализация\n",
    "]"
   ]
  },
  {
   "cell_type": "code",
   "execution_count": 1088,
   "metadata": {},
   "outputs": [
    {
     "name": "stderr",
     "output_type": "stream",
     "text": [
      "/home/denis/miniforge3/envs/hackathon_time/lib/python3.10/site-packages/etna/transforms/decomposition/detrend.py:96: SettingWithCopyWarning: \n",
      "A value is trying to be set on a copy of a slice from a DataFrame.\n",
      "Try using .loc[row_indexer,col_indexer] = value instead\n",
      "\n",
      "See the caveats in the documentation: https://pandas.pydata.org/pandas-docs/stable/user_guide/indexing.html#returning-a-view-versus-a-copy\n",
      "  result[self.in_column] = no_trend_timeseries\n",
      "/home/denis/miniforge3/envs/hackathon_time/lib/python3.10/site-packages/etna/transforms/decomposition/detrend.py:96: SettingWithCopyWarning: \n",
      "A value is trying to be set on a copy of a slice from a DataFrame.\n",
      "Try using .loc[row_indexer,col_indexer] = value instead\n",
      "\n",
      "See the caveats in the documentation: https://pandas.pydata.org/pandas-docs/stable/user_guide/indexing.html#returning-a-view-versus-a-copy\n",
      "  result[self.in_column] = no_trend_timeseries\n",
      "/home/denis/miniforge3/envs/hackathon_time/lib/python3.10/site-packages/etna/transforms/decomposition/detrend.py:96: SettingWithCopyWarning: \n",
      "A value is trying to be set on a copy of a slice from a DataFrame.\n",
      "Try using .loc[row_indexer,col_indexer] = value instead\n",
      "\n",
      "See the caveats in the documentation: https://pandas.pydata.org/pandas-docs/stable/user_guide/indexing.html#returning-a-view-versus-a-copy\n",
      "  result[self.in_column] = no_trend_timeseries\n",
      "/home/denis/miniforge3/envs/hackathon_time/lib/python3.10/site-packages/etna/datasets/utils.py:188: SettingWithCopyWarning: \n",
      "A value is trying to be set on a copy of a slice from a DataFrame.\n",
      "Try using .loc[row_indexer,col_indexer] = value instead\n",
      "\n",
      "See the caveats in the documentation: https://pandas.pydata.org/pandas-docs/stable/user_guide/indexing.html#returning-a-view-versus-a-copy\n",
      "  df_long[\"segment\"] = np.repeat(a=segments, repeats=n_timestamps)\n",
      "/home/denis/miniforge3/envs/hackathon_time/lib/python3.10/site-packages/etna/transforms/decomposition/detrend.py:135: SettingWithCopyWarning: \n",
      "A value is trying to be set on a copy of a slice from a DataFrame.\n",
      "Try using .loc[row_indexer,col_indexer] = value instead\n",
      "\n",
      "See the caveats in the documentation: https://pandas.pydata.org/pandas-docs/stable/user_guide/indexing.html#returning-a-view-versus-a-copy\n",
      "  result.loc[:, column_name] += trend\n",
      "/home/denis/miniforge3/envs/hackathon_time/lib/python3.10/site-packages/etna/transforms/decomposition/detrend.py:135: SettingWithCopyWarning: \n",
      "A value is trying to be set on a copy of a slice from a DataFrame.\n",
      "Try using .loc[row_indexer,col_indexer] = value instead\n",
      "\n",
      "See the caveats in the documentation: https://pandas.pydata.org/pandas-docs/stable/user_guide/indexing.html#returning-a-view-versus-a-copy\n",
      "  result.loc[:, column_name] += trend\n",
      "/home/denis/miniforge3/envs/hackathon_time/lib/python3.10/site-packages/etna/transforms/decomposition/detrend.py:135: SettingWithCopyWarning: \n",
      "A value is trying to be set on a copy of a slice from a DataFrame.\n",
      "Try using .loc[row_indexer,col_indexer] = value instead\n",
      "\n",
      "See the caveats in the documentation: https://pandas.pydata.org/pandas-docs/stable/user_guide/indexing.html#returning-a-view-versus-a-copy\n",
      "  result.loc[:, column_name] += trend\n",
      "/home/denis/miniforge3/envs/hackathon_time/lib/python3.10/site-packages/etna/transforms/decomposition/detrend.py:96: SettingWithCopyWarning: \n",
      "A value is trying to be set on a copy of a slice from a DataFrame.\n",
      "Try using .loc[row_indexer,col_indexer] = value instead\n",
      "\n",
      "See the caveats in the documentation: https://pandas.pydata.org/pandas-docs/stable/user_guide/indexing.html#returning-a-view-versus-a-copy\n",
      "  result[self.in_column] = no_trend_timeseries\n",
      "/home/denis/miniforge3/envs/hackathon_time/lib/python3.10/site-packages/etna/transforms/decomposition/detrend.py:96: SettingWithCopyWarning: \n",
      "A value is trying to be set on a copy of a slice from a DataFrame.\n",
      "Try using .loc[row_indexer,col_indexer] = value instead\n",
      "\n",
      "See the caveats in the documentation: https://pandas.pydata.org/pandas-docs/stable/user_guide/indexing.html#returning-a-view-versus-a-copy\n",
      "  result[self.in_column] = no_trend_timeseries\n",
      "/home/denis/miniforge3/envs/hackathon_time/lib/python3.10/site-packages/etna/transforms/decomposition/detrend.py:96: SettingWithCopyWarning: \n",
      "A value is trying to be set on a copy of a slice from a DataFrame.\n",
      "Try using .loc[row_indexer,col_indexer] = value instead\n",
      "\n",
      "See the caveats in the documentation: https://pandas.pydata.org/pandas-docs/stable/user_guide/indexing.html#returning-a-view-versus-a-copy\n",
      "  result[self.in_column] = no_trend_timeseries\n",
      "/home/denis/miniforge3/envs/hackathon_time/lib/python3.10/site-packages/etna/datasets/utils.py:188: SettingWithCopyWarning: \n",
      "A value is trying to be set on a copy of a slice from a DataFrame.\n",
      "Try using .loc[row_indexer,col_indexer] = value instead\n",
      "\n",
      "See the caveats in the documentation: https://pandas.pydata.org/pandas-docs/stable/user_guide/indexing.html#returning-a-view-versus-a-copy\n",
      "  df_long[\"segment\"] = np.repeat(a=segments, repeats=n_timestamps)\n",
      "/home/denis/miniforge3/envs/hackathon_time/lib/python3.10/site-packages/etna/transforms/decomposition/detrend.py:135: SettingWithCopyWarning: \n",
      "A value is trying to be set on a copy of a slice from a DataFrame.\n",
      "Try using .loc[row_indexer,col_indexer] = value instead\n",
      "\n",
      "See the caveats in the documentation: https://pandas.pydata.org/pandas-docs/stable/user_guide/indexing.html#returning-a-view-versus-a-copy\n",
      "  result.loc[:, column_name] += trend\n",
      "/home/denis/miniforge3/envs/hackathon_time/lib/python3.10/site-packages/etna/transforms/decomposition/detrend.py:135: SettingWithCopyWarning: \n",
      "A value is trying to be set on a copy of a slice from a DataFrame.\n",
      "Try using .loc[row_indexer,col_indexer] = value instead\n",
      "\n",
      "See the caveats in the documentation: https://pandas.pydata.org/pandas-docs/stable/user_guide/indexing.html#returning-a-view-versus-a-copy\n",
      "  result.loc[:, column_name] += trend\n",
      "/home/denis/miniforge3/envs/hackathon_time/lib/python3.10/site-packages/etna/transforms/decomposition/detrend.py:135: SettingWithCopyWarning: \n",
      "A value is trying to be set on a copy of a slice from a DataFrame.\n",
      "Try using .loc[row_indexer,col_indexer] = value instead\n",
      "\n",
      "See the caveats in the documentation: https://pandas.pydata.org/pandas-docs/stable/user_guide/indexing.html#returning-a-view-versus-a-copy\n",
      "  result.loc[:, column_name] += trend\n"
     ]
    }
   ],
   "source": [
    "from etna.models import CatBoostPerSegmentModel\n",
    "from etna.transforms import LagTransform, MeanTransform, DateFlagsTransform\n",
    "from etna.pipeline import Pipeline\n",
    "from etna.metrics import RMSE\n",
    "import numpy as np\n",
    "import matplotlib.pyplot as plt\n",
    "\n",
    "# 1. Модель CatBoost с исправленными параметрами\n",
    "catboost_model = CatBoostPerSegmentModel(\n",
    "    n_estimators=300,  # Количество деревьев\n",
    "    learning_rate=0.1,  # Меньшая скорость обучения\n",
    "    depth=7,  # Глубина деревьев\n",
    "    random_state=42  # Для воспроизводимости\n",
    ")\n",
    "\n",
    "pipe = Pipeline(model=catboost_model, transforms=transforms, \n",
    "                                                    horizon=len(valid_tsd.df))\n",
    "\n",
    "pipe.fit(train_tsd)\n",
    "\n",
    "forecast_valid = pipe.forecast(train_tsd)\n",
    "\n",
    "rmse = RMSE()\n",
    "rmse_value = rmse(y_true=valid_tsd, y_pred=forecast_valid)\n"
   ]
  },
  {
   "cell_type": "code",
   "execution_count": 1089,
   "metadata": {},
   "outputs": [
    {
     "data": {
      "text/plain": [
       "{'segment_1': 370.4878071478517,\n",
       " 'segment_2': 140.43353279401813,\n",
       " 'segment_3': 85.19416894352366}"
      ]
     },
     "execution_count": 1089,
     "metadata": {},
     "output_type": "execute_result"
    }
   ],
   "source": [
    "rmse_value"
   ]
  },
  {
   "cell_type": "code",
   "execution_count": null,
   "metadata": {},
   "outputs": [],
   "source": []
  }
 ],
 "metadata": {
  "kernelspec": {
   "display_name": "hackathon_time",
   "language": "python",
   "name": "python3"
  },
  "language_info": {
   "codemirror_mode": {
    "name": "ipython",
    "version": 3
   },
   "file_extension": ".py",
   "mimetype": "text/x-python",
   "name": "python",
   "nbconvert_exporter": "python",
   "pygments_lexer": "ipython3",
   "version": "3.10.15"
  }
 },
 "nbformat": 4,
 "nbformat_minor": 2
}
